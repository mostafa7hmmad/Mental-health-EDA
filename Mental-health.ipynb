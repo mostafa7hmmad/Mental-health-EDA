{
 "cells": [
  {
   "cell_type": "code",
   "execution_count": 3,
   "id": "63de292d-bd43-431f-90ec-dace66211ed0",
   "metadata": {},
   "outputs": [],
   "source": [
    "import numpy as np\n",
    "import pandas as pd\n",
    "import matplotlib.pyplot as plt\n",
    "import seaborn as sns\n",
    "import plotly.express as ex\n",
    "%matplotlib inline\n",
    "sns.set()\n",
    "import sys\n",
    "from matplotlib.colors import ListedColormap\n",
    "# Add the directory containing outliers.py to the system path\n",
    "sys.path.append(r'C:\\Users\\mostafa\\AI&ML\\File-important')\n",
    "\n",
    "# Import the remove_outliers_iqr function\n",
    "from outliers import remove_outliers_iqr\n"
   ]
  },
  {
   "cell_type": "code",
   "execution_count": 4,
   "id": "8bc2718b-a73d-4d3a-8721-694329914b04",
   "metadata": {},
   "outputs": [],
   "source": [
    "df=pd.read_csv(r\"C:\\Users\\mostafa\\AI&ML\\Full-Projects\\Mental-health-Prediction\\mental_health.csv\")\n"
   ]
  },
  {
   "cell_type": "markdown",
   "id": "bba7faeb-b908-4453-b9cc-81b55d492cba",
   "metadata": {},
   "source": [
    "# EDA"
   ]
  },
  {
   "cell_type": "code",
   "execution_count": 5,
   "id": "be063faa-6f4d-42f2-8abb-4355abc49c21",
   "metadata": {},
   "outputs": [
    {
     "name": "stdout",
     "output_type": "stream",
     "text": [
      "<class 'pandas.core.frame.DataFrame'>\n",
      "RangeIndex: 1000 entries, 0 to 999\n",
      "Data columns (total 12 columns):\n",
      " #   Column                   Non-Null Count  Dtype  \n",
      "---  ------                   --------------  -----  \n",
      " 0   User_ID                  1000 non-null   int64  \n",
      " 1   Age                      1000 non-null   int64  \n",
      " 2   Gender                   1000 non-null   object \n",
      " 3   Occupation               1000 non-null   object \n",
      " 4   Country                  1000 non-null   object \n",
      " 5   Mental_Health_Condition  1000 non-null   object \n",
      " 6   Severity                 499 non-null    object \n",
      " 7   Consultation_History     1000 non-null   object \n",
      " 8   Stress_Level             1000 non-null   object \n",
      " 9   Sleep_Hours              1000 non-null   float64\n",
      " 10  Work_Hours               1000 non-null   int64  \n",
      " 11  Physical_Activity_Hours  1000 non-null   int64  \n",
      "dtypes: float64(1), int64(4), object(7)\n",
      "memory usage: 93.9+ KB\n"
     ]
    }
   ],
   "source": [
    "df.info()\n"
   ]
  },
  {
   "cell_type": "code",
   "execution_count": 6,
   "id": "e8bd643a-0c92-4823-a965-8cd952c56d3a",
   "metadata": {},
   "outputs": [
    {
     "data": {
      "text/plain": [
       "Index(['User_ID', 'Age', 'Gender', 'Occupation', 'Country',\n",
       "       'Mental_Health_Condition', 'Severity', 'Consultation_History',\n",
       "       'Stress_Level', 'Sleep_Hours', 'Work_Hours', 'Physical_Activity_Hours'],\n",
       "      dtype='object')"
      ]
     },
     "execution_count": 6,
     "metadata": {},
     "output_type": "execute_result"
    }
   ],
   "source": [
    "df.columns"
   ]
  },
  {
   "cell_type": "code",
   "execution_count": 7,
   "id": "cb176016-f7d4-4f05-aa25-5d6a93e6bd9b",
   "metadata": {},
   "outputs": [
    {
     "data": {
      "text/html": [
       "<div>\n",
       "<style scoped>\n",
       "    .dataframe tbody tr th:only-of-type {\n",
       "        vertical-align: middle;\n",
       "    }\n",
       "\n",
       "    .dataframe tbody tr th {\n",
       "        vertical-align: top;\n",
       "    }\n",
       "\n",
       "    .dataframe thead th {\n",
       "        text-align: right;\n",
       "    }\n",
       "</style>\n",
       "<table border=\"1\" class=\"dataframe\">\n",
       "  <thead>\n",
       "    <tr style=\"text-align: right;\">\n",
       "      <th></th>\n",
       "      <th>User_ID</th>\n",
       "      <th>Age</th>\n",
       "      <th>Gender</th>\n",
       "      <th>Occupation</th>\n",
       "      <th>Country</th>\n",
       "      <th>Mental_Health_Condition</th>\n",
       "      <th>Severity</th>\n",
       "      <th>Consultation_History</th>\n",
       "      <th>Stress_Level</th>\n",
       "      <th>Sleep_Hours</th>\n",
       "      <th>Work_Hours</th>\n",
       "      <th>Physical_Activity_Hours</th>\n",
       "    </tr>\n",
       "  </thead>\n",
       "  <tbody>\n",
       "    <tr>\n",
       "      <th>0</th>\n",
       "      <td>1</td>\n",
       "      <td>36</td>\n",
       "      <td>Non-binary</td>\n",
       "      <td>Sales</td>\n",
       "      <td>Canada</td>\n",
       "      <td>No</td>\n",
       "      <td>Medium</td>\n",
       "      <td>Yes</td>\n",
       "      <td>Medium</td>\n",
       "      <td>7.1</td>\n",
       "      <td>46</td>\n",
       "      <td>5</td>\n",
       "    </tr>\n",
       "    <tr>\n",
       "      <th>1</th>\n",
       "      <td>2</td>\n",
       "      <td>34</td>\n",
       "      <td>Female</td>\n",
       "      <td>Education</td>\n",
       "      <td>UK</td>\n",
       "      <td>Yes</td>\n",
       "      <td>NaN</td>\n",
       "      <td>No</td>\n",
       "      <td>Low</td>\n",
       "      <td>7.5</td>\n",
       "      <td>47</td>\n",
       "      <td>8</td>\n",
       "    </tr>\n",
       "    <tr>\n",
       "      <th>2</th>\n",
       "      <td>3</td>\n",
       "      <td>65</td>\n",
       "      <td>Non-binary</td>\n",
       "      <td>Sales</td>\n",
       "      <td>USA</td>\n",
       "      <td>Yes</td>\n",
       "      <td>High</td>\n",
       "      <td>No</td>\n",
       "      <td>Low</td>\n",
       "      <td>8.4</td>\n",
       "      <td>58</td>\n",
       "      <td>10</td>\n",
       "    </tr>\n",
       "    <tr>\n",
       "      <th>3</th>\n",
       "      <td>4</td>\n",
       "      <td>34</td>\n",
       "      <td>Male</td>\n",
       "      <td>Other</td>\n",
       "      <td>Australia</td>\n",
       "      <td>No</td>\n",
       "      <td>Low</td>\n",
       "      <td>No</td>\n",
       "      <td>Medium</td>\n",
       "      <td>9.8</td>\n",
       "      <td>30</td>\n",
       "      <td>2</td>\n",
       "    </tr>\n",
       "    <tr>\n",
       "      <th>4</th>\n",
       "      <td>5</td>\n",
       "      <td>22</td>\n",
       "      <td>Female</td>\n",
       "      <td>Healthcare</td>\n",
       "      <td>Canada</td>\n",
       "      <td>Yes</td>\n",
       "      <td>Low</td>\n",
       "      <td>No</td>\n",
       "      <td>Medium</td>\n",
       "      <td>4.9</td>\n",
       "      <td>62</td>\n",
       "      <td>5</td>\n",
       "    </tr>\n",
       "  </tbody>\n",
       "</table>\n",
       "</div>"
      ],
      "text/plain": [
       "   User_ID  Age      Gender  Occupation    Country Mental_Health_Condition  \\\n",
       "0        1   36  Non-binary       Sales     Canada                      No   \n",
       "1        2   34      Female   Education         UK                     Yes   \n",
       "2        3   65  Non-binary       Sales        USA                     Yes   \n",
       "3        4   34        Male       Other  Australia                      No   \n",
       "4        5   22      Female  Healthcare     Canada                     Yes   \n",
       "\n",
       "  Severity Consultation_History Stress_Level  Sleep_Hours  Work_Hours  \\\n",
       "0   Medium                  Yes       Medium          7.1          46   \n",
       "1      NaN                   No          Low          7.5          47   \n",
       "2     High                   No          Low          8.4          58   \n",
       "3      Low                   No       Medium          9.8          30   \n",
       "4      Low                   No       Medium          4.9          62   \n",
       "\n",
       "   Physical_Activity_Hours  \n",
       "0                        5  \n",
       "1                        8  \n",
       "2                       10  \n",
       "3                        2  \n",
       "4                        5  "
      ]
     },
     "execution_count": 7,
     "metadata": {},
     "output_type": "execute_result"
    }
   ],
   "source": [
    "df.head()"
   ]
  },
  {
   "cell_type": "code",
   "execution_count": 8,
   "id": "e8e9a5ac-144e-405e-8397-2ad8e58569d5",
   "metadata": {},
   "outputs": [
    {
     "data": {
      "text/html": [
       "<div>\n",
       "<style scoped>\n",
       "    .dataframe tbody tr th:only-of-type {\n",
       "        vertical-align: middle;\n",
       "    }\n",
       "\n",
       "    .dataframe tbody tr th {\n",
       "        vertical-align: top;\n",
       "    }\n",
       "\n",
       "    .dataframe thead th {\n",
       "        text-align: right;\n",
       "    }\n",
       "</style>\n",
       "<table border=\"1\" class=\"dataframe\">\n",
       "  <thead>\n",
       "    <tr style=\"text-align: right;\">\n",
       "      <th></th>\n",
       "      <th>User_ID</th>\n",
       "      <th>Age</th>\n",
       "      <th>Gender</th>\n",
       "      <th>Occupation</th>\n",
       "      <th>Country</th>\n",
       "      <th>Mental_Health_Condition</th>\n",
       "      <th>Severity</th>\n",
       "      <th>Consultation_History</th>\n",
       "      <th>Stress_Level</th>\n",
       "      <th>Sleep_Hours</th>\n",
       "      <th>Work_Hours</th>\n",
       "      <th>Physical_Activity_Hours</th>\n",
       "    </tr>\n",
       "  </thead>\n",
       "  <tbody>\n",
       "    <tr>\n",
       "      <th>995</th>\n",
       "      <td>996</td>\n",
       "      <td>46</td>\n",
       "      <td>Non-binary</td>\n",
       "      <td>Other</td>\n",
       "      <td>Germany</td>\n",
       "      <td>No</td>\n",
       "      <td>NaN</td>\n",
       "      <td>Yes</td>\n",
       "      <td>Low</td>\n",
       "      <td>9.3</td>\n",
       "      <td>50</td>\n",
       "      <td>0</td>\n",
       "    </tr>\n",
       "    <tr>\n",
       "      <th>996</th>\n",
       "      <td>997</td>\n",
       "      <td>31</td>\n",
       "      <td>Male</td>\n",
       "      <td>Sales</td>\n",
       "      <td>Canada</td>\n",
       "      <td>No</td>\n",
       "      <td>NaN</td>\n",
       "      <td>No</td>\n",
       "      <td>High</td>\n",
       "      <td>4.5</td>\n",
       "      <td>37</td>\n",
       "      <td>6</td>\n",
       "    </tr>\n",
       "    <tr>\n",
       "      <th>997</th>\n",
       "      <td>998</td>\n",
       "      <td>33</td>\n",
       "      <td>Female</td>\n",
       "      <td>IT</td>\n",
       "      <td>Germany</td>\n",
       "      <td>No</td>\n",
       "      <td>High</td>\n",
       "      <td>Yes</td>\n",
       "      <td>Medium</td>\n",
       "      <td>9.7</td>\n",
       "      <td>73</td>\n",
       "      <td>10</td>\n",
       "    </tr>\n",
       "    <tr>\n",
       "      <th>998</th>\n",
       "      <td>999</td>\n",
       "      <td>42</td>\n",
       "      <td>Female</td>\n",
       "      <td>Finance</td>\n",
       "      <td>Australia</td>\n",
       "      <td>Yes</td>\n",
       "      <td>NaN</td>\n",
       "      <td>No</td>\n",
       "      <td>Medium</td>\n",
       "      <td>6.5</td>\n",
       "      <td>79</td>\n",
       "      <td>8</td>\n",
       "    </tr>\n",
       "    <tr>\n",
       "      <th>999</th>\n",
       "      <td>1000</td>\n",
       "      <td>43</td>\n",
       "      <td>Prefer not to say</td>\n",
       "      <td>Sales</td>\n",
       "      <td>Germany</td>\n",
       "      <td>No</td>\n",
       "      <td>Low</td>\n",
       "      <td>Yes</td>\n",
       "      <td>Low</td>\n",
       "      <td>6.0</td>\n",
       "      <td>61</td>\n",
       "      <td>7</td>\n",
       "    </tr>\n",
       "  </tbody>\n",
       "</table>\n",
       "</div>"
      ],
      "text/plain": [
       "     User_ID  Age             Gender Occupation    Country  \\\n",
       "995      996   46         Non-binary      Other    Germany   \n",
       "996      997   31               Male      Sales     Canada   \n",
       "997      998   33             Female         IT    Germany   \n",
       "998      999   42             Female    Finance  Australia   \n",
       "999     1000   43  Prefer not to say      Sales    Germany   \n",
       "\n",
       "    Mental_Health_Condition Severity Consultation_History Stress_Level  \\\n",
       "995                      No      NaN                  Yes          Low   \n",
       "996                      No      NaN                   No         High   \n",
       "997                      No     High                  Yes       Medium   \n",
       "998                     Yes      NaN                   No       Medium   \n",
       "999                      No      Low                  Yes          Low   \n",
       "\n",
       "     Sleep_Hours  Work_Hours  Physical_Activity_Hours  \n",
       "995          9.3          50                        0  \n",
       "996          4.5          37                        6  \n",
       "997          9.7          73                       10  \n",
       "998          6.5          79                        8  \n",
       "999          6.0          61                        7  "
      ]
     },
     "execution_count": 8,
     "metadata": {},
     "output_type": "execute_result"
    }
   ],
   "source": [
    "df.tail()"
   ]
  },
  {
   "cell_type": "code",
   "execution_count": 9,
   "id": "2432ca67-bbee-4443-891c-b75d38cc8eb2",
   "metadata": {},
   "outputs": [
    {
     "data": {
      "text/html": [
       "<div>\n",
       "<style scoped>\n",
       "    .dataframe tbody tr th:only-of-type {\n",
       "        vertical-align: middle;\n",
       "    }\n",
       "\n",
       "    .dataframe tbody tr th {\n",
       "        vertical-align: top;\n",
       "    }\n",
       "\n",
       "    .dataframe thead th {\n",
       "        text-align: right;\n",
       "    }\n",
       "</style>\n",
       "<table border=\"1\" class=\"dataframe\">\n",
       "  <thead>\n",
       "    <tr style=\"text-align: right;\">\n",
       "      <th></th>\n",
       "      <th>User_ID</th>\n",
       "      <th>Age</th>\n",
       "      <th>Gender</th>\n",
       "      <th>Occupation</th>\n",
       "      <th>Country</th>\n",
       "      <th>Mental_Health_Condition</th>\n",
       "      <th>Severity</th>\n",
       "      <th>Consultation_History</th>\n",
       "      <th>Stress_Level</th>\n",
       "      <th>Sleep_Hours</th>\n",
       "      <th>Work_Hours</th>\n",
       "      <th>Physical_Activity_Hours</th>\n",
       "    </tr>\n",
       "  </thead>\n",
       "  <tbody>\n",
       "    <tr>\n",
       "      <th>430</th>\n",
       "      <td>431</td>\n",
       "      <td>40</td>\n",
       "      <td>Prefer not to say</td>\n",
       "      <td>Sales</td>\n",
       "      <td>Canada</td>\n",
       "      <td>Yes</td>\n",
       "      <td>Medium</td>\n",
       "      <td>Yes</td>\n",
       "      <td>Medium</td>\n",
       "      <td>6.0</td>\n",
       "      <td>31</td>\n",
       "      <td>8</td>\n",
       "    </tr>\n",
       "    <tr>\n",
       "      <th>748</th>\n",
       "      <td>749</td>\n",
       "      <td>34</td>\n",
       "      <td>Non-binary</td>\n",
       "      <td>IT</td>\n",
       "      <td>USA</td>\n",
       "      <td>Yes</td>\n",
       "      <td>NaN</td>\n",
       "      <td>Yes</td>\n",
       "      <td>High</td>\n",
       "      <td>6.3</td>\n",
       "      <td>34</td>\n",
       "      <td>5</td>\n",
       "    </tr>\n",
       "    <tr>\n",
       "      <th>475</th>\n",
       "      <td>476</td>\n",
       "      <td>46</td>\n",
       "      <td>Female</td>\n",
       "      <td>Healthcare</td>\n",
       "      <td>UK</td>\n",
       "      <td>Yes</td>\n",
       "      <td>Low</td>\n",
       "      <td>Yes</td>\n",
       "      <td>Low</td>\n",
       "      <td>8.6</td>\n",
       "      <td>59</td>\n",
       "      <td>4</td>\n",
       "    </tr>\n",
       "    <tr>\n",
       "      <th>298</th>\n",
       "      <td>299</td>\n",
       "      <td>37</td>\n",
       "      <td>Male</td>\n",
       "      <td>Education</td>\n",
       "      <td>USA</td>\n",
       "      <td>No</td>\n",
       "      <td>NaN</td>\n",
       "      <td>No</td>\n",
       "      <td>High</td>\n",
       "      <td>5.2</td>\n",
       "      <td>75</td>\n",
       "      <td>1</td>\n",
       "    </tr>\n",
       "    <tr>\n",
       "      <th>718</th>\n",
       "      <td>719</td>\n",
       "      <td>30</td>\n",
       "      <td>Male</td>\n",
       "      <td>Other</td>\n",
       "      <td>Canada</td>\n",
       "      <td>Yes</td>\n",
       "      <td>Medium</td>\n",
       "      <td>No</td>\n",
       "      <td>Low</td>\n",
       "      <td>6.5</td>\n",
       "      <td>51</td>\n",
       "      <td>7</td>\n",
       "    </tr>\n",
       "  </tbody>\n",
       "</table>\n",
       "</div>"
      ],
      "text/plain": [
       "     User_ID  Age             Gender  Occupation Country  \\\n",
       "430      431   40  Prefer not to say       Sales  Canada   \n",
       "748      749   34         Non-binary          IT     USA   \n",
       "475      476   46             Female  Healthcare      UK   \n",
       "298      299   37               Male   Education     USA   \n",
       "718      719   30               Male       Other  Canada   \n",
       "\n",
       "    Mental_Health_Condition Severity Consultation_History Stress_Level  \\\n",
       "430                     Yes   Medium                  Yes       Medium   \n",
       "748                     Yes      NaN                  Yes         High   \n",
       "475                     Yes      Low                  Yes          Low   \n",
       "298                      No      NaN                   No         High   \n",
       "718                     Yes   Medium                   No          Low   \n",
       "\n",
       "     Sleep_Hours  Work_Hours  Physical_Activity_Hours  \n",
       "430          6.0          31                        8  \n",
       "748          6.3          34                        5  \n",
       "475          8.6          59                        4  \n",
       "298          5.2          75                        1  \n",
       "718          6.5          51                        7  "
      ]
     },
     "execution_count": 9,
     "metadata": {},
     "output_type": "execute_result"
    }
   ],
   "source": [
    "df.sample(5)"
   ]
  },
  {
   "cell_type": "code",
   "execution_count": 10,
   "id": "f0abc661-4369-480a-b0c9-b81da47282bf",
   "metadata": {},
   "outputs": [
    {
     "data": {
      "text/plain": [
       "12000"
      ]
     },
     "execution_count": 10,
     "metadata": {},
     "output_type": "execute_result"
    }
   ],
   "source": [
    "df.size"
   ]
  },
  {
   "cell_type": "code",
   "execution_count": 11,
   "id": "db5cee59-df71-4ec1-896c-6ba7655b8039",
   "metadata": {},
   "outputs": [
    {
     "data": {
      "text/plain": [
       "(1000, 12)"
      ]
     },
     "execution_count": 11,
     "metadata": {},
     "output_type": "execute_result"
    }
   ],
   "source": [
    "df.shape"
   ]
  },
  {
   "cell_type": "code",
   "execution_count": 12,
   "id": "2eda45b7-49bf-48e5-810b-a001f1f7c056",
   "metadata": {},
   "outputs": [
    {
     "data": {
      "text/plain": [
       "User_ID                      int64\n",
       "Age                          int64\n",
       "Gender                      object\n",
       "Occupation                  object\n",
       "Country                     object\n",
       "Mental_Health_Condition     object\n",
       "Severity                    object\n",
       "Consultation_History        object\n",
       "Stress_Level                object\n",
       "Sleep_Hours                float64\n",
       "Work_Hours                   int64\n",
       "Physical_Activity_Hours      int64\n",
       "dtype: object"
      ]
     },
     "execution_count": 12,
     "metadata": {},
     "output_type": "execute_result"
    }
   ],
   "source": [
    "df.dtypes"
   ]
  },
  {
   "cell_type": "code",
   "execution_count": 13,
   "id": "5e8e4f01-0e4c-4055-a975-db5198895e7e",
   "metadata": {},
   "outputs": [
    {
     "data": {
      "text/plain": [
       "User_ID                      0\n",
       "Age                          0\n",
       "Gender                       0\n",
       "Occupation                   0\n",
       "Country                      0\n",
       "Mental_Health_Condition      0\n",
       "Severity                   501\n",
       "Consultation_History         0\n",
       "Stress_Level                 0\n",
       "Sleep_Hours                  0\n",
       "Work_Hours                   0\n",
       "Physical_Activity_Hours      0\n",
       "dtype: int64"
      ]
     },
     "execution_count": 13,
     "metadata": {},
     "output_type": "execute_result"
    }
   ],
   "source": [
    "df.isna().sum()"
   ]
  },
  {
   "cell_type": "code",
   "execution_count": 14,
   "id": "1aee5668-72db-4492-a336-c47578c79bab",
   "metadata": {},
   "outputs": [
    {
     "data": {
      "text/plain": [
       "<Axes: >"
      ]
     },
     "execution_count": 14,
     "metadata": {},
     "output_type": "execute_result"
    },
    {
     "data": {
      "image/png": "[encoded data removed]",
      "text/plain": [
       "<Figure size 1600x800 with 2 Axes>"
      ]
     },
     "metadata": {},
     "output_type": "display_data"
    }
   ],
   "source": [
    "plt.figure(figsize=(16,8))\n",
    "sns.heatmap(df.isna())"
   ]
  },
  {
   "cell_type": "code",
   "execution_count": 15,
   "id": "69501a82-7e8b-4980-a259-57c414a1050c",
   "metadata": {},
   "outputs": [
    {
     "data": {
      "text/html": [
       "<div>\n",
       "<style scoped>\n",
       "    .dataframe tbody tr th:only-of-type {\n",
       "        vertical-align: middle;\n",
       "    }\n",
       "\n",
       "    .dataframe tbody tr th {\n",
       "        vertical-align: top;\n",
       "    }\n",
       "\n",
       "    .dataframe thead th {\n",
       "        text-align: right;\n",
       "    }\n",
       "</style>\n",
       "<table border=\"1\" class=\"dataframe\">\n",
       "  <thead>\n",
       "    <tr style=\"text-align: right;\">\n",
       "      <th></th>\n",
       "      <th>User_ID</th>\n",
       "      <th>Age</th>\n",
       "      <th>Gender</th>\n",
       "      <th>Occupation</th>\n",
       "      <th>Country</th>\n",
       "      <th>Mental_Health_Condition</th>\n",
       "      <th>Severity</th>\n",
       "      <th>Consultation_History</th>\n",
       "      <th>Stress_Level</th>\n",
       "      <th>Sleep_Hours</th>\n",
       "      <th>Work_Hours</th>\n",
       "      <th>Physical_Activity_Hours</th>\n",
       "    </tr>\n",
       "  </thead>\n",
       "  <tbody>\n",
       "  </tbody>\n",
       "</table>\n",
       "</div>"
      ],
      "text/plain": [
       "Empty DataFrame\n",
       "Columns: [User_ID, Age, Gender, Occupation, Country, Mental_Health_Condition, Severity, Consultation_History, Stress_Level, Sleep_Hours, Work_Hours, Physical_Activity_Hours]\n",
       "Index: []"
      ]
     },
     "execution_count": 15,
     "metadata": {},
     "output_type": "execute_result"
    }
   ],
   "source": [
    "df[df.duplicated()]"
   ]
  },
  {
   "cell_type": "code",
   "execution_count": 16,
   "id": "460b786c-e29a-4967-9def-9026aa12cf57",
   "metadata": {},
   "outputs": [
    {
     "data": {
      "text/plain": [
       "0"
      ]
     },
     "execution_count": 16,
     "metadata": {},
     "output_type": "execute_result"
    }
   ],
   "source": [
    "df.duplicated().sum()"
   ]
  },
  {
   "cell_type": "code",
   "execution_count": 17,
   "id": "f8827d05-0547-4b32-b6e1-90a853cec9c7",
   "metadata": {},
   "outputs": [
    {
     "data": {
      "text/plain": [
       "count    1000.00000\n",
       "mean       41.89200\n",
       "std        13.97475\n",
       "min        18.00000\n",
       "25%        30.00000\n",
       "50%        42.00000\n",
       "75%        54.00000\n",
       "max        65.00000\n",
       "Name: Age, dtype: float64"
      ]
     },
     "execution_count": 17,
     "metadata": {},
     "output_type": "execute_result"
    }
   ],
   "source": [
    "df['Age'].describe()"
   ]
  },
  {
   "cell_type": "code",
   "execution_count": 18,
   "id": "45727ab2-356e-494e-91b5-20619ba6fb42",
   "metadata": {},
   "outputs": [
    {
     "data": {
      "text/plain": [
       "array(['Non-binary', 'Female', 'Male', 'Prefer not to say'], dtype=object)"
      ]
     },
     "execution_count": 18,
     "metadata": {},
     "output_type": "execute_result"
    }
   ],
   "source": [
    "df['Gender'].unique()"
   ]
  },
  {
   "cell_type": "code",
   "execution_count": 19,
   "id": "6d8730a1-360c-40d4-bcbe-b7cb707592f0",
   "metadata": {},
   "outputs": [
    {
     "name": "stderr",
     "output_type": "stream",
     "text": [
      "C:\\Users\\mostafa\\AppData\\Local\\Temp\\ipykernel_12404\\1943206613.py:2: FutureWarning: \n",
      "\n",
      "Passing `palette` without assigning `hue` is deprecated and will be removed in v0.14.0. Assign the `x` variable to `hue` and set `legend=False` for the same effect.\n",
      "\n",
      "  sns.countplot(df,x='Gender',palette='cubehelix',width=0.2)\n"
     ]
    },
    {
     "data": {
      "image/png": "[encoded data removed]",
      "text/plain": [
       "<Figure size 1600x600 with 1 Axes>"
      ]
     },
     "metadata": {},
     "output_type": "display_data"
    }
   ],
   "source": [
    "plt.figure(figsize=(16,6))\n",
    "sns.countplot(df,x='Gender',palette='cubehelix',width=0.2)\n",
    "plt.xticks(fontsize=16)\n",
    "plt.yticks(fontsize=16)\n",
    "plt.xlabel('Gender Frequency',fontsize=16)\n",
    "plt.tight_layout()"
   ]
  },
  {
   "cell_type": "code",
   "execution_count": 20,
   "id": "4234d458-007f-482b-993e-8e8f33796626",
   "metadata": {},
   "outputs": [],
   "source": [
    "# plt.figure(figsize=(14,6))\n",
    "# sns.countplot(df,y='Age_Category',hue='Gender',palette='cubehelix')\n",
    "# plt.tight_layout()"
   ]
  },
  {
   "cell_type": "code",
   "execution_count": 21,
   "id": "9f40058b-a7cb-4866-b343-d03d89dd39c9",
   "metadata": {},
   "outputs": [
    {
     "data": {
      "text/plain": [
       "count       1000\n",
       "unique         4\n",
       "top       Female\n",
       "freq         270\n",
       "Name: Gender, dtype: object"
      ]
     },
     "execution_count": 21,
     "metadata": {},
     "output_type": "execute_result"
    }
   ],
   "source": [
    "df['Gender'].describe()"
   ]
  },
  {
   "cell_type": "code",
   "execution_count": 22,
   "id": "558d11ec-32d1-43b5-8e32-4ee97967ac40",
   "metadata": {},
   "outputs": [
    {
     "data": {
      "text/plain": [
       "array(['Sales', 'Education', 'Other', 'Healthcare', 'IT', 'Engineering',\n",
       "       'Finance'], dtype=object)"
      ]
     },
     "execution_count": 22,
     "metadata": {},
     "output_type": "execute_result"
    }
   ],
   "source": [
    "df['Occupation'].unique()"
   ]
  },
  {
   "cell_type": "code",
   "execution_count": 23,
   "id": "da15c9fd-bcbf-4d23-bdef-ae35c50709bc",
   "metadata": {},
   "outputs": [
    {
     "data": {
      "text/plain": [
       "Occupation\n",
       "Other          161\n",
       "Healthcare     149\n",
       "Engineering    148\n",
       "Finance        139\n",
       "Sales          135\n",
       "Education      135\n",
       "IT             133\n",
       "Name: count, dtype: int64"
      ]
     },
     "execution_count": 23,
     "metadata": {},
     "output_type": "execute_result"
    }
   ],
   "source": [
    "df['Occupation'].value_counts()"
   ]
  },
  {
   "cell_type": "code",
   "execution_count": 24,
   "id": "be2ba2f9-c39e-4b4f-af77-f90fb134f38d",
   "metadata": {},
   "outputs": [
    {
     "name": "stderr",
     "output_type": "stream",
     "text": [
      "C:\\Users\\mostafa\\AppData\\Local\\Temp\\ipykernel_12404\\3536452760.py:2: FutureWarning: \n",
      "\n",
      "Passing `palette` without assigning `hue` is deprecated and will be removed in v0.14.0. Assign the `x` variable to `hue` and set `legend=False` for the same effect.\n",
      "\n",
      "  sns.countplot(df,x='Occupation',width=0.4,palette='rocket')\n"
     ]
    },
    {
     "data": {
      "image/png": "[encoded data removed]",
      "text/plain": [
       "<Figure size 1600x600 with 1 Axes>"
      ]
     },
     "metadata": {},
     "output_type": "display_data"
    }
   ],
   "source": [
    "plt.figure(figsize=(16, 6))\n",
    "sns.countplot(df,x='Occupation',width=0.4,palette='rocket')\n",
    "plt.xticks(fontsize=16)\n",
    "plt.yticks(fontsize=16)\n",
    "plt.xlabel('Occupation Frequency',fontsize=16)\n",
    "plt.tight_layout()\n"
   ]
  },
  {
   "cell_type": "code",
   "execution_count": 58,
   "id": "e423aa7a-c190-499f-a2f6-42276ba6be8c",
   "metadata": {},
   "outputs": [
    {
     "name": "stderr",
     "output_type": "stream",
     "text": [
      "C:\\Users\\mostafa\\AppData\\Local\\Temp\\ipykernel_12404\\1987085040.py:3: UserWarning:\n",
      "\n",
      "The palette list has more values (5) than needed (4), which may not be intended.\n",
      "\n"
     ]
    },
    {
     "data": {
      "image/png": "[encoded data removed]",
      "text/plain": [
       "<Figure size 1400x600 with 1 Axes>"
      ]
     },
     "metadata": {},
     "output_type": "display_data"
    }
   ],
   "source": [
    "plt.figure(figsize=(14,6))\n",
    "dark_vibrance_palette = ['#283747', '#1C2833', '#566573', '#AF601A', '#922B21']\n",
    "sns.countplot(df,y='Occupation',hue='Age_Category',palette=dark_vibrance_palette)\n",
    "plt.xticks(fontsize=16)\n",
    "plt.yticks(fontsize=16)\n",
    "plt.tight_layout()"
   ]
  },
  {
   "cell_type": "code",
   "execution_count": null,
   "id": "8076be55-f39a-42fc-b790-c34c43009ee2",
   "metadata": {},
   "outputs": [],
   "source": [
    "df['Occupation'].describe()"
   ]
  },
  {
   "cell_type": "code",
   "execution_count": null,
   "id": "18ae3006-c0e4-445f-b7d2-40667770fa4f",
   "metadata": {},
   "outputs": [],
   "source": [
    "df['Country'].unique()"
   ]
  },
  {
   "cell_type": "code",
   "execution_count": null,
   "id": "df572c68-e36b-4845-a986-4f6d55763968",
   "metadata": {},
   "outputs": [],
   "source": [
    "df['Country'].value_counts()"
   ]
  },
  {
   "cell_type": "code",
   "execution_count": null,
   "id": "c8e14cc9-ab26-4c5f-9040-05752164fb94",
   "metadata": {},
   "outputs": [],
   "source": [
    "df['Country'].describe()"
   ]
  },
  {
   "cell_type": "code",
   "execution_count": null,
   "id": "1a560452-c22f-4f43-ba15-a9658efc24ae",
   "metadata": {},
   "outputs": [],
   "source": [
    "df['Mental_Health_Condition'].unique()"
   ]
  },
  {
   "cell_type": "markdown",
   "id": "d2b2ef17-75b3-44a7-bd1d-ce84ca33298d",
   "metadata": {},
   "source": [
    "     - \"Yes\" means the person has a mental health condition and is therefore not considered mentally healthy\"\n",
    "     - \"No\" means the person does not have a mental health condition and is considered mentally healthy.\n"
   ]
  },
  {
   "cell_type": "code",
   "execution_count": null,
   "id": "d700e606-b4da-404d-85e4-f1d70d973aed",
   "metadata": {},
   "outputs": [],
   "source": [
    "df['Mental_Health_Condition'].describe()\n"
   ]
  },
  {
   "cell_type": "code",
   "execution_count": null,
   "id": "21be3c55-9cce-4e42-8fcb-79173232a04f",
   "metadata": {},
   "outputs": [],
   "source": [
    "plt.figure(figsize=(12,5))\n",
    "sns.boxplot(df,x='Country',y='Physical_Activity_Hours',hue='Mental_Health_Condition',palette='rocket_r')\n",
    "plt.legend(loc='upper right')"
   ]
  },
  {
   "cell_type": "code",
   "execution_count": 26,
   "id": "4f68e00a-5172-4597-b301-18a17a01cb1a",
   "metadata": {},
   "outputs": [
    {
     "data": {
      "text/plain": [
       "array(['Medium', nan, 'High', 'Low'], dtype=object)"
      ]
     },
     "execution_count": 26,
     "metadata": {},
     "output_type": "execute_result"
    }
   ],
   "source": [
    "df['Severity'].unique()"
   ]
  },
  {
   "cell_type": "code",
   "execution_count": 27,
   "id": "c696fc42-d1d1-4b7b-beb4-ebbcc97a3f64",
   "metadata": {},
   "outputs": [
    {
     "data": {
      "text/plain": [
       "count     499\n",
       "unique      3\n",
       "top       Low\n",
       "freq      176\n",
       "Name: Severity, dtype: object"
      ]
     },
     "execution_count": 27,
     "metadata": {},
     "output_type": "execute_result"
    }
   ],
   "source": [
    "df['Severity'].describe()"
   ]
  },
  {
   "cell_type": "code",
   "execution_count": 28,
   "id": "bc3fe91f-78b1-4ef7-a664-7e0db6b8eb55",
   "metadata": {},
   "outputs": [
    {
     "data": {
      "text/plain": [
       "array(['Yes', 'No'], dtype=object)"
      ]
     },
     "execution_count": 28,
     "metadata": {},
     "output_type": "execute_result"
    }
   ],
   "source": [
    "df['Consultation_History'].unique()"
   ]
  },
  {
   "cell_type": "code",
   "execution_count": 29,
   "id": "b9fd692a-d70e-4247-90f4-6672107dae60",
   "metadata": {},
   "outputs": [
    {
     "name": "stderr",
     "output_type": "stream",
     "text": [
      "C:\\Users\\mostafa\\AppData\\Local\\Temp\\ipykernel_12404\\571771093.py:2: FutureWarning: \n",
      "\n",
      "Passing `palette` without assigning `hue` is deprecated and will be removed in v0.14.0. Assign the `y` variable to `hue` and set `legend=False` for the same effect.\n",
      "\n",
      "  sns.countplot(df,y='Consultation_History',palette='rocket',width=0.3)\n"
     ]
    },
    {
     "data": {
      "image/png": "[encoded data removed]",
      "text/plain": [
       "<Figure size 1600x600 with 1 Axes>"
      ]
     },
     "metadata": {},
     "output_type": "display_data"
    }
   ],
   "source": [
    "plt.figure(figsize=(16,6))\n",
    "sns.countplot(df,y='Consultation_History',palette='rocket',width=0.3)\n",
    "plt.yticks(fontsize=(16))\n",
    "plt.xticks(fontsize=(16))\n",
    "plt.tight_layout()\n"
   ]
  },
  {
   "cell_type": "markdown",
   "id": "7b7c9dc7-8e0d-4a19-a0d9-7b6728c65318",
   "metadata": {},
   "source": [
    "    - Yes: A person has  consultation with a specialist \n",
    "    - No: A person Not has  consultation Before"
   ]
  },
  {
   "cell_type": "code",
   "execution_count": 30,
   "id": "5f7f4cb4-47b9-4af1-a6fa-3f4cb97fd0c1",
   "metadata": {},
   "outputs": [
    {
     "data": {
      "text/plain": [
       "count     1000\n",
       "unique       2\n",
       "top         No\n",
       "freq       505\n",
       "Name: Consultation_History, dtype: object"
      ]
     },
     "execution_count": 30,
     "metadata": {},
     "output_type": "execute_result"
    }
   ],
   "source": [
    "df['Consultation_History'].describe()"
   ]
  },
  {
   "cell_type": "code",
   "execution_count": 31,
   "id": "740d7e67-03e1-4340-92ef-32402e01661b",
   "metadata": {},
   "outputs": [
    {
     "data": {
      "text/plain": [
       "array(['Medium', 'Low', 'High'], dtype=object)"
      ]
     },
     "execution_count": 31,
     "metadata": {},
     "output_type": "execute_result"
    }
   ],
   "source": [
    "df['Stress_Level'].unique()"
   ]
  },
  {
   "cell_type": "code",
   "execution_count": 32,
   "id": "302ee84d-50f4-402e-9224-112b097b432c",
   "metadata": {},
   "outputs": [
    {
     "data": {
      "image/png": "[encoded data removed]",
      "text/plain": [
       "<Figure size 1600x600 with 1 Axes>"
      ]
     },
     "metadata": {},
     "output_type": "display_data"
    }
   ],
   "source": [
    "plt.figure(figsize=(16,6))\n",
    "sns.countplot(df,y='Stress_Level',palette='mako',width=0.4,hue='Mental_Health_Condition')\n",
    "plt.yticks(fontsize=(16))\n",
    "plt.xticks(fontsize=(16))\n",
    "plt.tight_layout()"
   ]
  },
  {
   "cell_type": "code",
   "execution_count": 33,
   "id": "33c02cd4-6f52-4770-a123-bf525480b576",
   "metadata": {},
   "outputs": [
    {
     "data": {
      "text/plain": [
       "count     1000\n",
       "unique       3\n",
       "top       High\n",
       "freq       342\n",
       "Name: Stress_Level, dtype: object"
      ]
     },
     "execution_count": 33,
     "metadata": {},
     "output_type": "execute_result"
    }
   ],
   "source": [
    "df['Stress_Level'].describe()"
   ]
  },
  {
   "cell_type": "code",
   "execution_count": 34,
   "id": "97e90ce8-ec52-46f8-b44e-e880af7c34e0",
   "metadata": {},
   "outputs": [
    {
     "data": {
      "text/plain": [
       "Stress_Level\n",
       "High      342\n",
       "Low       338\n",
       "Medium    320\n",
       "Name: count, dtype: int64"
      ]
     },
     "execution_count": 34,
     "metadata": {},
     "output_type": "execute_result"
    }
   ],
   "source": [
    "df['Stress_Level'].value_counts()\n"
   ]
  },
  {
   "cell_type": "code",
   "execution_count": 35,
   "id": "8ec6ff68-558b-4a3f-96ff-162d5ae7d62c",
   "metadata": {},
   "outputs": [
    {
     "data": {
      "text/plain": [
       "count    1000.000000\n",
       "mean        7.095600\n",
       "std         1.713861\n",
       "min         4.000000\n",
       "25%         5.600000\n",
       "50%         7.100000\n",
       "75%         8.500000\n",
       "max        10.000000\n",
       "Name: Sleep_Hours, dtype: float64"
      ]
     },
     "execution_count": 35,
     "metadata": {},
     "output_type": "execute_result"
    }
   ],
   "source": [
    "df['Sleep_Hours'].describe()"
   ]
  },
  {
   "cell_type": "code",
   "execution_count": 36,
   "id": "7fddc202-df82-4b93-85f1-0c218ff9fca9",
   "metadata": {},
   "outputs": [
    {
     "data": {
      "text/plain": [
       "count    1000.000000\n",
       "mean       54.621000\n",
       "std        14.709035\n",
       "min        30.000000\n",
       "25%        42.000000\n",
       "50%        55.000000\n",
       "75%        67.000000\n",
       "max        80.000000\n",
       "Name: Work_Hours, dtype: float64"
      ]
     },
     "execution_count": 36,
     "metadata": {},
     "output_type": "execute_result"
    }
   ],
   "source": [
    "df['Work_Hours'].describe()"
   ]
  },
  {
   "cell_type": "code",
   "execution_count": 37,
   "id": "df4fc303-fb14-4344-9505-8a95efcf1d81",
   "metadata": {},
   "outputs": [
    {
     "data": {
      "text/plain": [
       "count    1000.000000\n",
       "mean        5.134000\n",
       "std         3.081808\n",
       "min         0.000000\n",
       "25%         3.000000\n",
       "50%         5.000000\n",
       "75%         8.000000\n",
       "max        10.000000\n",
       "Name: Physical_Activity_Hours, dtype: float64"
      ]
     },
     "execution_count": 37,
     "metadata": {},
     "output_type": "execute_result"
    }
   ],
   "source": [
    "df['Physical_Activity_Hours'].describe()"
   ]
  },
  {
   "cell_type": "markdown",
   "id": "a7ae3c82-6830-4fc1-8a31-a0cc11768b01",
   "metadata": {},
   "source": [
    "# Data Prprocessing\n",
    "   - Cleaning & Outliers\n",
    "   - Transformation & Preparation\n",
    "   - Analysis\n",
    "   - Visualization"
   ]
  },
  {
   "cell_type": "markdown",
   "id": "8f92ae65-e81a-4764-a9d4-b0436e0846de",
   "metadata": {},
   "source": [
    "##### Cleaning"
   ]
  },
  {
   "cell_type": "code",
   "execution_count": 38,
   "id": "5efb075b-6438-44f2-a78c-7ed6afab81e8",
   "metadata": {},
   "outputs": [],
   "source": [
    "df.drop(labels='User_ID',axis=1,inplace=True)"
   ]
  },
  {
   "cell_type": "code",
   "execution_count": 39,
   "id": "0e7357a3-51bb-4cb6-9a09-9f6396af5d69",
   "metadata": {},
   "outputs": [],
   "source": [
    "df.drop('Severity',axis=1,inplace=True)"
   ]
  },
  {
   "cell_type": "markdown",
   "id": "91dcdf80-be38-4d88-8fa6-ac335e046340",
   "metadata": {},
   "source": [
    "### Outliers "
   ]
  },
  {
   "cell_type": "code",
   "execution_count": 40,
   "id": "ddb48772-9da1-4219-aec7-a100ae8ab88f",
   "metadata": {},
   "outputs": [
    {
     "data": {
      "text/plain": [
       "<seaborn.axisgrid.FacetGrid at 0x24a4bfb5d60>"
      ]
     },
     "execution_count": 40,
     "metadata": {},
     "output_type": "execute_result"
    },
    {
     "data": {
      "image/png": "[encoded data removed]",
      "text/plain": [
       "<Figure size 1200x600 with 1 Axes>"
      ]
     },
     "metadata": {},
     "output_type": "display_data"
    }
   ],
   "source": [
    "sns.catplot(df,kind='box',aspect=2,height=6)\n"
   ]
  },
  {
   "cell_type": "code",
   "execution_count": 41,
   "id": "8cd01e65-1aa9-4033-a997-45e859b3b441",
   "metadata": {},
   "outputs": [
    {
     "data": {
      "text/plain": [
       "0      46\n",
       "1      47\n",
       "2      58\n",
       "3      30\n",
       "4      62\n",
       "       ..\n",
       "995    50\n",
       "996    37\n",
       "997    73\n",
       "998    79\n",
       "999    61\n",
       "Name: Work_Hours, Length: 1000, dtype: int64"
      ]
     },
     "execution_count": 41,
     "metadata": {},
     "output_type": "execute_result"
    }
   ],
   "source": [
    "remove_outliers_iqr(df,'Work_Hours')"
   ]
  },
  {
   "cell_type": "code",
   "execution_count": 42,
   "id": "dcbc3273-f2fd-41ac-abf5-03a357646979",
   "metadata": {},
   "outputs": [
    {
     "data": {
      "text/plain": [
       "0       5\n",
       "1       8\n",
       "2      10\n",
       "3       2\n",
       "4       5\n",
       "       ..\n",
       "995     0\n",
       "996     6\n",
       "997    10\n",
       "998     8\n",
       "999     7\n",
       "Name: Physical_Activity_Hours, Length: 1000, dtype: int64"
      ]
     },
     "execution_count": 42,
     "metadata": {},
     "output_type": "execute_result"
    }
   ],
   "source": [
    "remove_outliers_iqr(df,'Physical_Activity_Hours')"
   ]
  },
  {
   "cell_type": "code",
   "execution_count": 43,
   "id": "4f8aa164-a061-4423-8eb1-de3ac127096a",
   "metadata": {},
   "outputs": [
    {
     "data": {
      "text/plain": [
       "0      7.1\n",
       "1      7.5\n",
       "2      8.4\n",
       "3      9.8\n",
       "4      4.9\n",
       "      ... \n",
       "995    9.3\n",
       "996    4.5\n",
       "997    9.7\n",
       "998    6.5\n",
       "999    6.0\n",
       "Name: Sleep_Hours, Length: 1000, dtype: float64"
      ]
     },
     "execution_count": 43,
     "metadata": {},
     "output_type": "execute_result"
    }
   ],
   "source": [
    "remove_outliers_iqr(df,'Sleep_Hours')"
   ]
  },
  {
   "cell_type": "markdown",
   "id": "50a31880-2689-4a7b-9239-d1d85f34f20a",
   "metadata": {},
   "source": [
    "### Transformation & preparation"
   ]
  },
  {
   "cell_type": "code",
   "execution_count": 44,
   "id": "9a282184-5ce4-44f9-bc9e-c4a3389883b2",
   "metadata": {},
   "outputs": [
    {
     "data": {
      "text/html": [
       "<div>\n",
       "<style scoped>\n",
       "    .dataframe tbody tr th:only-of-type {\n",
       "        vertical-align: middle;\n",
       "    }\n",
       "\n",
       "    .dataframe tbody tr th {\n",
       "        vertical-align: top;\n",
       "    }\n",
       "\n",
       "    .dataframe thead th {\n",
       "        text-align: right;\n",
       "    }\n",
       "</style>\n",
       "<table border=\"1\" class=\"dataframe\">\n",
       "  <thead>\n",
       "    <tr style=\"text-align: right;\">\n",
       "      <th></th>\n",
       "      <th>Age</th>\n",
       "      <th>Gender</th>\n",
       "      <th>Occupation</th>\n",
       "      <th>Country</th>\n",
       "      <th>Mental_Health_Condition</th>\n",
       "      <th>Consultation_History</th>\n",
       "      <th>Stress_Level</th>\n",
       "      <th>Sleep_Hours</th>\n",
       "      <th>Work_Hours</th>\n",
       "      <th>Physical_Activity_Hours</th>\n",
       "    </tr>\n",
       "  </thead>\n",
       "  <tbody>\n",
       "    <tr>\n",
       "      <th>0</th>\n",
       "      <td>36</td>\n",
       "      <td>Non-binary</td>\n",
       "      <td>Sales</td>\n",
       "      <td>Canada</td>\n",
       "      <td>No</td>\n",
       "      <td>Yes</td>\n",
       "      <td>Medium</td>\n",
       "      <td>7.1</td>\n",
       "      <td>46</td>\n",
       "      <td>5</td>\n",
       "    </tr>\n",
       "    <tr>\n",
       "      <th>1</th>\n",
       "      <td>34</td>\n",
       "      <td>Female</td>\n",
       "      <td>Education</td>\n",
       "      <td>UK</td>\n",
       "      <td>Yes</td>\n",
       "      <td>No</td>\n",
       "      <td>Low</td>\n",
       "      <td>7.5</td>\n",
       "      <td>47</td>\n",
       "      <td>8</td>\n",
       "    </tr>\n",
       "    <tr>\n",
       "      <th>2</th>\n",
       "      <td>65</td>\n",
       "      <td>Non-binary</td>\n",
       "      <td>Sales</td>\n",
       "      <td>USA</td>\n",
       "      <td>Yes</td>\n",
       "      <td>No</td>\n",
       "      <td>Low</td>\n",
       "      <td>8.4</td>\n",
       "      <td>58</td>\n",
       "      <td>10</td>\n",
       "    </tr>\n",
       "    <tr>\n",
       "      <th>3</th>\n",
       "      <td>34</td>\n",
       "      <td>Male</td>\n",
       "      <td>Other</td>\n",
       "      <td>Australia</td>\n",
       "      <td>No</td>\n",
       "      <td>No</td>\n",
       "      <td>Medium</td>\n",
       "      <td>9.8</td>\n",
       "      <td>30</td>\n",
       "      <td>2</td>\n",
       "    </tr>\n",
       "    <tr>\n",
       "      <th>4</th>\n",
       "      <td>22</td>\n",
       "      <td>Female</td>\n",
       "      <td>Healthcare</td>\n",
       "      <td>Canada</td>\n",
       "      <td>Yes</td>\n",
       "      <td>No</td>\n",
       "      <td>Medium</td>\n",
       "      <td>4.9</td>\n",
       "      <td>62</td>\n",
       "      <td>5</td>\n",
       "    </tr>\n",
       "  </tbody>\n",
       "</table>\n",
       "</div>"
      ],
      "text/plain": [
       "   Age      Gender  Occupation    Country Mental_Health_Condition  \\\n",
       "0   36  Non-binary       Sales     Canada                      No   \n",
       "1   34      Female   Education         UK                     Yes   \n",
       "2   65  Non-binary       Sales        USA                     Yes   \n",
       "3   34        Male       Other  Australia                      No   \n",
       "4   22      Female  Healthcare     Canada                     Yes   \n",
       "\n",
       "  Consultation_History Stress_Level  Sleep_Hours  Work_Hours  \\\n",
       "0                  Yes       Medium          7.1          46   \n",
       "1                   No          Low          7.5          47   \n",
       "2                   No          Low          8.4          58   \n",
       "3                   No       Medium          9.8          30   \n",
       "4                   No       Medium          4.9          62   \n",
       "\n",
       "   Physical_Activity_Hours  \n",
       "0                        5  \n",
       "1                        8  \n",
       "2                       10  \n",
       "3                        2  \n",
       "4                        5  "
      ]
     },
     "execution_count": 44,
     "metadata": {},
     "output_type": "execute_result"
    }
   ],
   "source": [
    "df.head()"
   ]
  },
  {
   "cell_type": "code",
   "execution_count": 45,
   "id": "07dd8fd8-02d9-4169-8032-31699b4a6bb8",
   "metadata": {},
   "outputs": [
    {
     "data": {
      "text/plain": [
       "array([18, 19, 20, 21, 22, 23, 24, 25, 26, 27, 28, 29, 30, 31, 32, 33, 34,\n",
       "       35, 36, 37, 38, 39, 40, 41, 42, 43, 44, 45, 46, 47, 48, 49, 50, 51,\n",
       "       52, 53, 54, 55, 56, 57, 58, 59, 60, 61, 62, 63, 64, 65],\n",
       "      dtype=int64)"
      ]
     },
     "execution_count": 45,
     "metadata": {},
     "output_type": "execute_result"
    }
   ],
   "source": [
    "age=df['Age'].unique()\n",
    "age.sort()\n",
    "age"
   ]
  },
  {
   "cell_type": "code",
   "execution_count": 46,
   "id": "531aef5e-f0cc-463e-859e-d72a8b40ea3c",
   "metadata": {},
   "outputs": [
    {
     "data": {
      "text/html": [
       "<div>\n",
       "<style scoped>\n",
       "    .dataframe tbody tr th:only-of-type {\n",
       "        vertical-align: middle;\n",
       "    }\n",
       "\n",
       "    .dataframe tbody tr th {\n",
       "        vertical-align: top;\n",
       "    }\n",
       "\n",
       "    .dataframe thead th {\n",
       "        text-align: right;\n",
       "    }\n",
       "</style>\n",
       "<table border=\"1\" class=\"dataframe\">\n",
       "  <thead>\n",
       "    <tr style=\"text-align: right;\">\n",
       "      <th></th>\n",
       "      <th>Age</th>\n",
       "      <th>Age_Category</th>\n",
       "      <th>Gender</th>\n",
       "      <th>Occupation</th>\n",
       "      <th>Country</th>\n",
       "      <th>Mental_Health_Condition</th>\n",
       "      <th>Consultation_History</th>\n",
       "      <th>Stress_Level</th>\n",
       "      <th>Sleep_Hours</th>\n",
       "      <th>Work_Hours</th>\n",
       "      <th>Physical_Activity_Hours</th>\n",
       "    </tr>\n",
       "  </thead>\n",
       "  <tbody>\n",
       "    <tr>\n",
       "      <th>546</th>\n",
       "      <td>38</td>\n",
       "      <td>Middle</td>\n",
       "      <td>Prefer not to say</td>\n",
       "      <td>Finance</td>\n",
       "      <td>USA</td>\n",
       "      <td>Yes</td>\n",
       "      <td>Yes</td>\n",
       "      <td>Medium</td>\n",
       "      <td>4.0</td>\n",
       "      <td>62</td>\n",
       "      <td>10</td>\n",
       "    </tr>\n",
       "    <tr>\n",
       "      <th>245</th>\n",
       "      <td>44</td>\n",
       "      <td>Middle</td>\n",
       "      <td>Non-binary</td>\n",
       "      <td>Other</td>\n",
       "      <td>India</td>\n",
       "      <td>No</td>\n",
       "      <td>Yes</td>\n",
       "      <td>Low</td>\n",
       "      <td>9.1</td>\n",
       "      <td>60</td>\n",
       "      <td>5</td>\n",
       "    </tr>\n",
       "    <tr>\n",
       "      <th>325</th>\n",
       "      <td>19</td>\n",
       "      <td>Young Adult</td>\n",
       "      <td>Female</td>\n",
       "      <td>Finance</td>\n",
       "      <td>Canada</td>\n",
       "      <td>No</td>\n",
       "      <td>Yes</td>\n",
       "      <td>High</td>\n",
       "      <td>7.9</td>\n",
       "      <td>76</td>\n",
       "      <td>3</td>\n",
       "    </tr>\n",
       "    <tr>\n",
       "      <th>781</th>\n",
       "      <td>30</td>\n",
       "      <td>Young Adult</td>\n",
       "      <td>Male</td>\n",
       "      <td>Engineering</td>\n",
       "      <td>UK</td>\n",
       "      <td>No</td>\n",
       "      <td>Yes</td>\n",
       "      <td>High</td>\n",
       "      <td>7.3</td>\n",
       "      <td>40</td>\n",
       "      <td>6</td>\n",
       "    </tr>\n",
       "  </tbody>\n",
       "</table>\n",
       "</div>"
      ],
      "text/plain": [
       "     Age Age_Category             Gender   Occupation Country  \\\n",
       "546   38       Middle  Prefer not to say      Finance     USA   \n",
       "245   44       Middle         Non-binary        Other   India   \n",
       "325   19  Young Adult             Female      Finance  Canada   \n",
       "781   30  Young Adult               Male  Engineering      UK   \n",
       "\n",
       "    Mental_Health_Condition Consultation_History Stress_Level  Sleep_Hours  \\\n",
       "546                     Yes                  Yes       Medium          4.0   \n",
       "245                      No                  Yes          Low          9.1   \n",
       "325                      No                  Yes         High          7.9   \n",
       "781                      No                  Yes         High          7.3   \n",
       "\n",
       "     Work_Hours  Physical_Activity_Hours  \n",
       "546          62                       10  \n",
       "245          60                        5  \n",
       "325          76                        3  \n",
       "781          40                        6  "
      ]
     },
     "execution_count": 46,
     "metadata": {},
     "output_type": "execute_result"
    }
   ],
   "source": [
    "df.insert(1, 'Age_Category', pd.cut(x=df['Age'], bins=[0, 18, 34, 50, 65], labels=['Underage', 'Young Adult', 'Middle', 'Senior']))\n",
    "df.sample(4)"
   ]
  },
  {
   "cell_type": "code",
   "execution_count": 47,
   "id": "1e28ad7d-fb77-473d-b1e4-71830cd34848",
   "metadata": {},
   "outputs": [],
   "source": [
    "df['Gender']=df['Gender'].replace({'Non-binary':'Other','Female':'F','Male':'M'})\n"
   ]
  },
  {
   "cell_type": "code",
   "execution_count": 48,
   "id": "a3d254bc-db62-4968-9339-ead416baa7fe",
   "metadata": {},
   "outputs": [
    {
     "data": {
      "text/html": [
       "<div>\n",
       "<style scoped>\n",
       "    .dataframe tbody tr th:only-of-type {\n",
       "        vertical-align: middle;\n",
       "    }\n",
       "\n",
       "    .dataframe tbody tr th {\n",
       "        vertical-align: top;\n",
       "    }\n",
       "\n",
       "    .dataframe thead th {\n",
       "        text-align: right;\n",
       "    }\n",
       "</style>\n",
       "<table border=\"1\" class=\"dataframe\">\n",
       "  <thead>\n",
       "    <tr style=\"text-align: right;\">\n",
       "      <th></th>\n",
       "      <th>Age</th>\n",
       "      <th>Age_Category</th>\n",
       "      <th>Gender</th>\n",
       "      <th>Occupation</th>\n",
       "      <th>Country</th>\n",
       "      <th>Mental_Health_Condition</th>\n",
       "      <th>Consultation_History</th>\n",
       "      <th>Stress_Level</th>\n",
       "      <th>Sleep_Hours</th>\n",
       "      <th>Work_Hours</th>\n",
       "      <th>Physical_Activity_Hours</th>\n",
       "    </tr>\n",
       "  </thead>\n",
       "  <tbody>\n",
       "    <tr>\n",
       "      <th>586</th>\n",
       "      <td>25</td>\n",
       "      <td>Young Adult</td>\n",
       "      <td>Other</td>\n",
       "      <td>IT</td>\n",
       "      <td>Australia</td>\n",
       "      <td>Yes</td>\n",
       "      <td>No</td>\n",
       "      <td>High</td>\n",
       "      <td>6.9</td>\n",
       "      <td>71</td>\n",
       "      <td>1</td>\n",
       "    </tr>\n",
       "    <tr>\n",
       "      <th>285</th>\n",
       "      <td>27</td>\n",
       "      <td>Young Adult</td>\n",
       "      <td>Priv</td>\n",
       "      <td>Sales</td>\n",
       "      <td>Other</td>\n",
       "      <td>No</td>\n",
       "      <td>Yes</td>\n",
       "      <td>Low</td>\n",
       "      <td>7.0</td>\n",
       "      <td>56</td>\n",
       "      <td>2</td>\n",
       "    </tr>\n",
       "    <tr>\n",
       "      <th>71</th>\n",
       "      <td>62</td>\n",
       "      <td>Senior</td>\n",
       "      <td>M</td>\n",
       "      <td>Education</td>\n",
       "      <td>Germany</td>\n",
       "      <td>Yes</td>\n",
       "      <td>Yes</td>\n",
       "      <td>Low</td>\n",
       "      <td>5.5</td>\n",
       "      <td>74</td>\n",
       "      <td>6</td>\n",
       "    </tr>\n",
       "    <tr>\n",
       "      <th>769</th>\n",
       "      <td>50</td>\n",
       "      <td>Middle</td>\n",
       "      <td>F</td>\n",
       "      <td>Finance</td>\n",
       "      <td>UK</td>\n",
       "      <td>Yes</td>\n",
       "      <td>Yes</td>\n",
       "      <td>High</td>\n",
       "      <td>9.0</td>\n",
       "      <td>78</td>\n",
       "      <td>10</td>\n",
       "    </tr>\n",
       "    <tr>\n",
       "      <th>245</th>\n",
       "      <td>44</td>\n",
       "      <td>Middle</td>\n",
       "      <td>Other</td>\n",
       "      <td>Other</td>\n",
       "      <td>India</td>\n",
       "      <td>No</td>\n",
       "      <td>Yes</td>\n",
       "      <td>Low</td>\n",
       "      <td>9.1</td>\n",
       "      <td>60</td>\n",
       "      <td>5</td>\n",
       "    </tr>\n",
       "    <tr>\n",
       "      <th>405</th>\n",
       "      <td>64</td>\n",
       "      <td>Senior</td>\n",
       "      <td>Priv</td>\n",
       "      <td>Healthcare</td>\n",
       "      <td>India</td>\n",
       "      <td>No</td>\n",
       "      <td>No</td>\n",
       "      <td>Low</td>\n",
       "      <td>4.8</td>\n",
       "      <td>37</td>\n",
       "      <td>9</td>\n",
       "    </tr>\n",
       "  </tbody>\n",
       "</table>\n",
       "</div>"
      ],
      "text/plain": [
       "     Age Age_Category Gender  Occupation    Country Mental_Health_Condition  \\\n",
       "586   25  Young Adult  Other          IT  Australia                     Yes   \n",
       "285   27  Young Adult   Priv       Sales      Other                      No   \n",
       "71    62       Senior      M   Education    Germany                     Yes   \n",
       "769   50       Middle      F     Finance         UK                     Yes   \n",
       "245   44       Middle  Other       Other      India                      No   \n",
       "405   64       Senior   Priv  Healthcare      India                      No   \n",
       "\n",
       "    Consultation_History Stress_Level  Sleep_Hours  Work_Hours  \\\n",
       "586                   No         High          6.9          71   \n",
       "285                  Yes          Low          7.0          56   \n",
       "71                   Yes          Low          5.5          74   \n",
       "769                  Yes         High          9.0          78   \n",
       "245                  Yes          Low          9.1          60   \n",
       "405                   No          Low          4.8          37   \n",
       "\n",
       "     Physical_Activity_Hours  \n",
       "586                        1  \n",
       "285                        2  \n",
       "71                         6  \n",
       "769                       10  \n",
       "245                        5  \n",
       "405                        9  "
      ]
     },
     "execution_count": 48,
     "metadata": {},
     "output_type": "execute_result"
    }
   ],
   "source": [
    "df['Gender']=df['Gender'].replace({'Prefer not to say':'Priv'})\n",
    "df.sample(6)"
   ]
  },
  {
   "cell_type": "code",
   "execution_count": 52,
   "id": "103a2865-cf6e-45f1-850c-a58944563ede",
   "metadata": {},
   "outputs": [],
   "source": [
    "df['Mental_Health_Condition']=df['Mental_Health_Condition'].astype('category').cat.codes\n",
    "df['Consultation_History']=df['Consultation_History'].astype('category').cat.codes\n",
    "df['Stress_Level']=df['Stress_Level'].astype('category').cat.codes\n",
    "\n",
    "df['Stress_Level']=df['Stress_Level'].astype('category').cat.codes\n",
    "df['Stress_Level']=df['Stress_Level'].map({0:1,1:2,2:3})"
   ]
  }
 ],
 "metadata": {
  "kernelspec": {
   "display_name": "Python 3 (ipykernel)",
   "language": "python",
   "name": "python3"
  },
  "language_info": {
   "codemirror_mode": {
    "name": "ipython",
    "version": 3
   },
   "file_extension": ".py",
   "mimetype": "text/x-python",
   "name": "python",
   "nbconvert_exporter": "python",
   "pygments_lexer": "ipython3",
   "version": "3.12.4"
  }
 },
 "nbformat": 4,
 "nbformat_minor": 5
}
